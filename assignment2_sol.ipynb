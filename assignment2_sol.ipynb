{
 "cells": [
  {
   "cell_type": "markdown",
   "metadata": {},
   "source": [
    "# Assignmemt 2 - Task1"
   ]
  },
  {
   "cell_type": "markdown",
   "metadata": {},
   "source": [
    "Write a Python Program to implement your own myreduce() function which works exactly like Python's built-in function reduce() "
   ]
  },
  {
   "cell_type": "code",
   "execution_count": 25,
   "metadata": {},
   "outputs": [
    {
     "name": "stdout",
     "output_type": "stream",
     "text": [
      "15\n",
      "120\n"
     ]
    }
   ],
   "source": [
    "def add(x,y):\n",
    "    return x+y\n",
    "def mul(x,y):\n",
    "    return x*y\n",
    "def myreduce(my_func, arg_list, result):\n",
    "    for i in arg_list:\n",
    "        result = my_func(i,result)\n",
    "    return result\n",
    "adds = myreduce(add, [1,2,3,4,5], 0)  \n",
    "print(adds)\n",
    "muls = myreduce(mul, [1,2,3,4,5], 1)  \n",
    "print(muls)"
   ]
  },
  {
   "cell_type": "markdown",
   "metadata": {},
   "source": [
    "Write a Python program to implement your own myfilter() function which works exactly like Python's built-in function filter() "
   ]
  },
  {
   "cell_type": "code",
   "execution_count": 30,
   "metadata": {},
   "outputs": [
    {
     "name": "stdout",
     "output_type": "stream",
     "text": [
      "[35, 70]\n"
     ]
    }
   ],
   "source": [
    "def div(x,param):\n",
    "    if x%param==0:\n",
    "        return x\n",
    "    else:\n",
    "        pass\n",
    "def myfilter(my_func, arg_list, param):\n",
    "    result = []\n",
    "    for i in arg_list:\n",
    "        temp = my_func(i,param)\n",
    "        if temp!=None:\n",
    "            result.append(temp)\n",
    "    return result\n",
    "divs = myfilter(div, [1,35,50,70,100], 35)  \n",
    "print(divs)"
   ]
  },
  {
   "cell_type": "markdown",
   "metadata": {},
   "source": [
    "Write a Python program to implement your own mymap() function which works exactly like Python's built-in function filter() "
   ]
  },
  {
   "cell_type": "code",
   "execution_count": 32,
   "metadata": {},
   "outputs": [
    {
     "name": "stdout",
     "output_type": "stream",
     "text": [
      "[1, 4, 9, 16, 25]\n",
      "[1, 8, 27, 64, 125]\n"
     ]
    }
   ],
   "source": [
    "def square(n):\n",
    "    x = n*n\n",
    "    return x\n",
    "def cube(x):\n",
    "    return x*x*x\n",
    "def my_map(func, arg_list):\n",
    "    result = []\n",
    "    for i in arg_list:\n",
    "        result.append(func(i))\n",
    "    return result    \n",
    "\n",
    "squares = my_map(square,[1,2,3,4,5])\n",
    "print(squares)\n",
    "\n",
    "cubes = my_map(cube,[1,2,3,4,5])\n",
    "print(cubes)"
   ]
  },
  {
   "cell_type": "markdown",
   "metadata": {},
   "source": [
    "Implement List comprehensions to produce the following lists.  "
   ]
  },
  {
   "cell_type": "code",
   "execution_count": 52,
   "metadata": {},
   "outputs": [
    {
     "data": {
      "text/plain": [
       "['A', 'C', 'A', 'D', 'G', 'I', 'L', 'D']"
      ]
     },
     "execution_count": 52,
     "metadata": {},
     "output_type": "execute_result"
    }
   ],
   "source": [
    "str_in = 'AcadGild'\n",
    "[str.upper(i) for i in str_in]"
   ]
  },
  {
   "cell_type": "code",
   "execution_count": 53,
   "metadata": {},
   "outputs": [
    {
     "data": {
      "text/plain": [
       "['x', 'y', 'z', 'xx', 'yy', 'zz', 'xxx', 'yyy', 'zzz', 'xxxx', 'yyyy', 'zzzz']"
      ]
     },
     "execution_count": 53,
     "metadata": {},
     "output_type": "execute_result"
    }
   ],
   "source": [
    "list_in =['x','y','z']\n",
    "[i*j for j in range(1,5) for i in list_in]"
   ]
  },
  {
   "cell_type": "code",
   "execution_count": 57,
   "metadata": {},
   "outputs": [
    {
     "data": {
      "text/plain": [
       "['x', 'xx', 'xxx', 'xxxx', 'y', 'yy', 'yyy', 'yyyy', 'z', 'zz', 'zzz', 'zzzz']"
      ]
     },
     "execution_count": 57,
     "metadata": {},
     "output_type": "execute_result"
    }
   ],
   "source": [
    "list_in =['x','y','z']\n",
    "sorted([i*j for j in range(1,5) for i in list_in])"
   ]
  },
  {
   "cell_type": "code",
   "execution_count": 63,
   "metadata": {},
   "outputs": [
    {
     "data": {
      "text/plain": [
       "[[2], [3], [3], [4], [4], [5], [5], [6]]"
      ]
     },
     "execution_count": 63,
     "metadata": {},
     "output_type": "execute_result"
    }
   ],
   "source": [
    "result = []\n",
    "for i in range(2,6):\n",
    "    for j in range(i,i+2):\n",
    "         result.append([j])\n",
    "result    "
   ]
  },
  {
   "cell_type": "markdown",
   "metadata": {},
   "source": [
    "cannot do this with list comprehension"
   ]
  },
  {
   "cell_type": "code",
   "execution_count": 72,
   "metadata": {},
   "outputs": [
    {
     "data": {
      "text/plain": [
       "[[2, 3, 4], [3, 4, 5], [4, 5, 6], [5, 6, 7]]"
      ]
     },
     "execution_count": 72,
     "metadata": {},
     "output_type": "execute_result"
    }
   ],
   "source": [
    "result = []\n",
    "for i in range(1,5):\n",
    "    mylist=[][]\n",
    "    for j in range(i+1,i+4):\n",
    "           mylist.append(j)\n",
    "    result.append(mylist)\n",
    "result "
   ]
  },
  {
   "cell_type": "code",
   "execution_count": 78,
   "metadata": {},
   "outputs": [
    {
     "data": {
      "text/plain": [
       "[[2, 3, 4], [3, 4, 5], [4, 5, 6], [5, 6, 7]]"
      ]
     },
     "execution_count": 78,
     "metadata": {},
     "output_type": "execute_result"
    }
   ],
   "source": [
    "[[j for j in range(i+1,i+4)] for i in range(1,5)]"
   ]
  },
  {
   "cell_type": "code",
   "execution_count": 85,
   "metadata": {},
   "outputs": [
    {
     "data": {
      "text/plain": [
       "[(1, 1), (2, 1), (3, 1), (1, 2), (2, 2), (3, 2), (1, 3), (2, 3), (3, 3)]"
      ]
     },
     "execution_count": 85,
     "metadata": {},
     "output_type": "execute_result"
    }
   ],
   "source": [
    "list_in = [1,2,3]\n",
    "[(i,j) for j in list_in for i in list_in]"
   ]
  },
  {
   "cell_type": "markdown",
   "metadata": {},
   "source": [
    "Implement a function longestWord() that takes a list of words and returns the longest one"
   ]
  },
  {
   "cell_type": "code",
   "execution_count": 89,
   "metadata": {},
   "outputs": [
    {
     "name": "stdout",
     "output_type": "stream",
     "text": [
      "enter the list of words:a, dhhasd,hbahahsh,xhjgAHSGSGAHGAHXGA\n"
     ]
    },
    {
     "data": {
      "text/plain": [
       "'xhjgAHSGSGAHGAHXGA'"
      ]
     },
     "execution_count": 89,
     "metadata": {},
     "output_type": "execute_result"
    }
   ],
   "source": [
    "def longestWord(arg_list):\n",
    "    arg_list.sort(key=len,reverse=True)\n",
    "    return arg_list[0]\n",
    "user_inp = list(input(\"enter the list of words:\").split(','))\n",
    "longestWord(user_inp)"
   ]
  },
  {
   "cell_type": "markdown",
   "metadata": {},
   "source": [
    "# Assignmemt 2 - Task2"
   ]
  },
  {
   "cell_type": "markdown",
   "metadata": {},
   "source": [
    "Write a Python Program(with class concepts) to find the area of the triangle using the below formula. \n",
    " \n",
    "area = (s*(s-a)*(s-b)*(s-c)) ** 0.5 \n",
    " \n",
    "Function to take the length of the sides of triangle from user should be defined in the parent class and function to calculate the area should be defined in subclass."
   ]
  },
  {
   "cell_type": "code",
   "execution_count": 95,
   "metadata": {},
   "outputs": [
    {
     "name": "stdout",
     "output_type": "stream",
     "text": [
      "30.0\n",
      "0.0\n",
      "6.0\n",
      "6.0\n"
     ]
    }
   ],
   "source": [
    "class find_area:\n",
    "    def __init__(self,a,b,c):\n",
    "        self.a = a\n",
    "        self.b = b\n",
    "        self.c = c\n",
    "    def perimeter(self):\n",
    "        self.s = (self.a+self.b+self.c)/2\n",
    "        return self.s\n",
    "    def area(self):\n",
    "        self.Area = (self.s*(self.s-self.a)*(self.s-self.b)*(self.s-self.c)) ** 0.5 \n",
    "        return self.Area\n",
    "    \n",
    "triangle_1 = find_area(10,20,30)\n",
    "print(triangle_1.perimeter())\n",
    "print(triangle_1.area())   \n",
    "triangle_2 = find_area(3,4,5)\n",
    "print(triangle_2.perimeter())\n",
    "print(triangle_2.area())   "
   ]
  },
  {
   "cell_type": "markdown",
   "metadata": {},
   "source": [
    "Write a function filter_long_words() that takes a list of words and an integer n and returns the list of words that are longer than n."
   ]
  },
  {
   "cell_type": "code",
   "execution_count": 2,
   "metadata": {},
   "outputs": [
    {
     "name": "stdout",
     "output_type": "stream",
     "text": [
      "enter the list of words:hdb,hfdgshdghsd,asdsad,cvcbcbc,aa,ssd,fghj\n",
      "enter the threshold length:6\n"
     ]
    },
    {
     "data": {
      "text/plain": [
       "['hfdgshdghsd', 'asdsad', 'cvcbcbc']"
      ]
     },
     "execution_count": 2,
     "metadata": {},
     "output_type": "execute_result"
    }
   ],
   "source": [
    "def filter_long_words(arg_list,n):\n",
    "    result = []\n",
    "    for i in arg_list:\n",
    "        if len(i)>=n:\n",
    "            result.append(i)\n",
    "    return result        \n",
    "user_inp = list(input(\"enter the list of words:\").split(','))\n",
    "user_num = int(input(\"enter the threshold length:\"))\n",
    "filter_long_words(user_inp,user_num)"
   ]
  },
  {
   "cell_type": "markdown",
   "metadata": {},
   "source": [
    "Write a Python program using function concept that maps  list of words into a list of integers representing the lengths of the corresponding words​. Hint: ​If a list [ ab,cde,erty] is passed on to the python function output should come as [2,3,4] \n",
    "Here 2,3 and 4 are the lengths of the words in the list. "
   ]
  },
  {
   "cell_type": "code",
   "execution_count": 4,
   "metadata": {},
   "outputs": [
    {
     "name": "stdout",
     "output_type": "stream",
     "text": [
      "enter the list of words:wgdvqwdv,ghdg,,ghg,s,wqdjwqdhwqudhwqd\n"
     ]
    },
    {
     "data": {
      "text/plain": [
       "[8, 4, 0, 3, 1, 16]"
      ]
     },
     "execution_count": 4,
     "metadata": {},
     "output_type": "execute_result"
    }
   ],
   "source": [
    "def length_ofwords(arg_list):\n",
    "    result = []\n",
    "    for i in arg_list:\n",
    "        result.append(len(i))\n",
    "    return result        \n",
    "user_inp = list(input(\"enter the list of words:\").split(','))\n",
    "length_ofwords(user_inp)"
   ]
  },
  {
   "cell_type": "code",
   "execution_count": 6,
   "metadata": {},
   "outputs": [
    {
     "name": "stdout",
     "output_type": "stream",
     "text": [
      "enter the list of words:dhgwqvdwqgdv,s,df,f,djeidjw\n"
     ]
    },
    {
     "data": {
      "text/plain": [
       "[12, 1, 2, 1, 7]"
      ]
     },
     "execution_count": 6,
     "metadata": {},
     "output_type": "execute_result"
    }
   ],
   "source": [
    "user_inp = list(input(\"enter the list of words:\").split(','))\n",
    "list(map(lambda x:len(x),user_inp))"
   ]
  },
  {
   "cell_type": "markdown",
   "metadata": {},
   "source": [
    "Write a Python function which takes a character (i.e. a string of length 1) and returns True if it is a vowel, False otherwise. "
   ]
  },
  {
   "cell_type": "code",
   "execution_count": 8,
   "metadata": {},
   "outputs": [
    {
     "name": "stdout",
     "output_type": "stream",
     "text": [
      "enter a letter to check if vowel or not:g\n",
      "you entered a consonant.\n"
     ]
    }
   ],
   "source": [
    "vowels = ['a','e','i','o','u']\n",
    "user_char=input(\"enter a letter to check if vowel or not:\")\n",
    "if user_char in vowels:\n",
    "    print('you entered a vowel.')\n",
    "else:\n",
    "    print('you entered a consonant.')"
   ]
  },
  {
   "cell_type": "code",
   "execution_count": null,
   "metadata": {},
   "outputs": [],
   "source": []
  }
 ],
 "metadata": {
  "kernelspec": {
   "display_name": "Python 3",
   "language": "python",
   "name": "python3"
  }
 },
 "nbformat": 4,
 "nbformat_minor": 2
}
